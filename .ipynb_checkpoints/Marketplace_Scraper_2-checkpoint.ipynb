{
 "cells": [
  {
   "cell_type": "code",
   "execution_count": 1,
   "id": "bc0ffb8a",
   "metadata": {},
   "outputs": [],
   "source": [
    "from splinter import Browser\n",
    "from bs4 import BeautifulSoup as soup\n",
    "import re\n",
    "import pandas as pd\n",
    "import matplotlib.pyplot as plt\n",
    "import time\n",
    "from selenium import webdriver\n",
    "from selenium.webdriver.common.by import By\n",
    "from selenium.webdriver.support.ui import WebDriverWait\n",
    "from selenium.webdriver.support import expected_conditions as EC\n",
    "from selenium.webdriver.common.keys import Keys"
   ]
  },
  {
   "cell_type": "code",
   "execution_count": 2,
   "id": "830f0e5b",
   "metadata": {},
   "outputs": [],
   "source": [
    "# Set up search parameters\n",
    "min_price = 1000\n",
    "max_price = 30000\n",
    "days_listed = 7\n",
    "min_mileage = 50000\n",
    "max_mileage = 200000\n",
    "min_year = 2000\n",
    "max_year = 2020\n",
    "transmission = \"automatic\"\n",
    "query = \"Honda Civic\"\n",
    "#\"102170323157613\" = Moncton NB, \"114723638540069\" = Timmins ON, \"111551465530472\" = Thunder Bay ON\n",
    "cities = [\"102170323157613\", \"montreal\", \"toronto\", \"114723638540069\", \"111551465530472\", \"winnipeg\", \"regina\", \"calgary\", \"vancouver\"]"
   ]
  },
  {
   "cell_type": "code",
   "execution_count": 3,
   "id": "fb24dde5",
   "metadata": {},
   "outputs": [],
   "source": [
    "browser = webdriver.Chrome()\n",
    "\n",
    "for city in cities:\n",
    "    # Set up base url\n",
    "    base_url = f'https://www.facebook.com/marketplace/{city}/search?'\n",
    "    #Set up full url\n",
    "    url = f\"{base_url}minPrice={min_price}&maxPrice={max_price}&daysSinceListed={days_listed}&maxMileage={max_mileage}&maxYear={max_year}&minMileage={min_mileage}&minYear={min_year}&transmissionType={transmission}&query={query}&exact=false\"\n",
    "\n",
    "    # Visit the website\n",
    "    browser.get(url)\n",
    "\n",
    "    # Find the div element by its CSS selector\n",
    "    wait = WebDriverWait(browser, 10)\n",
    "    div_element = wait.until(EC.element_to_be_clickable((By.CSS_SELECTOR, 'div.x1i10hfl.x1qjc9v5.xjbqb8w.xjqpnuy.xa49m3k.xqeqjp1.x2hbi6w.x13fuv20.xu3j5b3.x1q0q8m5.x26u7qi.x972fbf.xcfux6l.x1qhh985.xm0m39n.x9f619.x1ypdohk.xdl72j9.x2lah0s.xe8uvvx.x11i5rnm.xat24cr.x1mh8g0r.x2lwn1j.xeuugli.xexx8yu.x4uap5.x18d9i69.xkhd6sd.x1n2onr6.x16tdsg8.x1hl2dhg.xggy1nq.x1ja2u2z.x1t137rt.x1o1ewxj.x3x9cwd.x1e5q0jg.x13rtm0m.x1q0g3np.x87ps6o.x1lku1pv.x78zum5.x1a2a7pz.x1xmf6yo[tabindex=\"0\"]')))\n",
    "\n",
    "\n",
    "    # Click on the div element\n",
    "    div_element.click()\n",
    "\n",
    "    wait = WebDriverWait(browser, 10)\n",
    "\n",
    "    # Wait for the label element to be clickable\n",
    "    wait = WebDriverWait(browser, 10)\n",
    "    label_element = wait.until(EC.element_to_be_clickable((By.CSS_SELECTOR, 'label[for=\":rj:\"]')))\n",
    "\n",
    "    # Click on the label element\n",
    "    label_element.click()\n",
    "\n",
    "    # Press the \"Down\" key 11 times\n",
    "    for _ in range(12):\n",
    "        label_element.send_keys(Keys.DOWN)\n",
    "\n",
    "    # Press Enter\n",
    "    label_element.send_keys(Keys.ENTER)\n",
    "\n",
    "    # Wait for the \"Apply\" button to be clickable\n",
    "    wait = WebDriverWait(browser, 10)\n",
    "    apply_div = wait.until(EC.element_to_be_clickable((By.CSS_SELECTOR, 'div[aria-label=\"Apply\"]')))\n",
    "\n",
    "    # Click on the div element\n",
    "    apply_div.click()\n",
    "    \n",
    "    # Scroll down to load more results\n",
    "    scroll_count = 2\n",
    "    scroll_delay = 2\n",
    "\n",
    "    for _ in range(scroll_count):\n",
    "        browser.execute_script(\"window.scrollTo(0, document.body.scrollHeight);\")\n",
    "        time.sleep(scroll_delay)"
   ]
  },
  {
   "cell_type": "code",
   "execution_count": 4,
   "id": "ee261afe",
   "metadata": {},
   "outputs": [],
   "source": [
    "# Close the browser\n",
    "browser.quit()"
   ]
  },
  {
   "cell_type": "code",
   "execution_count": 36,
   "id": "e9110ee4",
   "metadata": {},
   "outputs": [
    {
     "ename": "AttributeError",
     "evalue": "'WebDriver' object has no attribute 'find_element'",
     "output_type": "error",
     "traceback": [
      "\u001b[1;31m---------------------------------------------------------------------------\u001b[0m",
      "\u001b[1;31mAttributeError\u001b[0m                            Traceback (most recent call last)",
      "\u001b[1;32m~\\AppData\\Local\\Temp\\ipykernel_18004\\1622078498.py\u001b[0m in \u001b[0;36m<module>\u001b[1;34m\u001b[0m\n\u001b[0;32m      8\u001b[0m \u001b[0mbrowser\u001b[0m\u001b[1;33m.\u001b[0m\u001b[0mvisit\u001b[0m\u001b[1;33m(\u001b[0m\u001b[0murl\u001b[0m\u001b[1;33m)\u001b[0m\u001b[1;33m\u001b[0m\u001b[1;33m\u001b[0m\u001b[0m\n\u001b[0;32m      9\u001b[0m \u001b[1;33m\u001b[0m\u001b[0m\n\u001b[1;32m---> 10\u001b[1;33m \u001b[0mdiv_element\u001b[0m \u001b[1;33m=\u001b[0m \u001b[0mbrowser\u001b[0m\u001b[1;33m.\u001b[0m\u001b[0mfind_element\u001b[0m\u001b[1;33m(\u001b[0m\u001b[0mBy\u001b[0m\u001b[1;33m.\u001b[0m\u001b[0mCSS_SELECTOR\u001b[0m\u001b[1;33m,\u001b[0m \u001b[1;34m'div.x1i10hfl.x1qjc9v5.xjbqb8w.xjqpnuy.xa49m3k.xqeqjp1.x2hbi6w.x13fuv20.xu3j5b3.x1q0q8m5.x26u7qi.x972fbf.xcfux6l.x1qhh985.xm0m39n.x9f619.x1ypdohk.xdl72j9.x2lah0s.xe8uvvx.x11i5rnm.xat24cr.x1mh8g0r.x2lwn1j.xeuugli.xexx8yu.x4uap5.x18d9i69.xkhd6sd.x1n2onr6.x16tdsg8.x1hl2dhg.xggy1nq.x1ja2u2z.x1t137rt.x1o1ewxj.x3x9cwd.x1e5q0jg.x13rtm0m.x1q0g3np.x87ps6o.x1lku1pv.x78zum5.x1a2a7pz.x1xmf6yo[tabindex=\"0\"]'\u001b[0m\u001b[1;33m)\u001b[0m\u001b[1;33m\u001b[0m\u001b[1;33m\u001b[0m\u001b[0m\n\u001b[0m\u001b[0;32m     11\u001b[0m \u001b[1;33m\u001b[0m\u001b[0m\n\u001b[0;32m     12\u001b[0m \u001b[1;31m# Click on the div element\u001b[0m\u001b[1;33m\u001b[0m\u001b[1;33m\u001b[0m\u001b[0m\n",
      "\u001b[1;31mAttributeError\u001b[0m: 'WebDriver' object has no attribute 'find_element'"
     ]
    }
   ],
   "source": [
    "# Set up Splinter\n",
    "browser = Browser('chrome')\n",
    "# Set up base url\n",
    "base_url = f'https://www.facebook.com/marketplace/toronto/search?'\n",
    "#Set up full url\n",
    "url = f\"{base_url}minPrice={min_price}&maxPrice={max_price}&daysSinceListed={days_listed}&maxMileage={max_mileage}&maxYear={max_year}&minMileage={min_mileage}&minYear={min_year}&transmissionType={transmission}&query={query}&exact=false\"\n",
    "# Visit the website\n",
    "browser.visit(url)\n",
    "\n",
    "div_element = browser.find_element(By.CSS_SELECTOR, 'div.x1i10hfl.x1qjc9v5.xjbqb8w.xjqpnuy.xa49m3k.xqeqjp1.x2hbi6w.x13fuv20.xu3j5b3.x1q0q8m5.x26u7qi.x972fbf.xcfux6l.x1qhh985.xm0m39n.x9f619.x1ypdohk.xdl72j9.x2lah0s.xe8uvvx.x11i5rnm.xat24cr.x1mh8g0r.x2lwn1j.xeuugli.xexx8yu.x4uap5.x18d9i69.xkhd6sd.x1n2onr6.x16tdsg8.x1hl2dhg.xggy1nq.x1ja2u2z.x1t137rt.x1o1ewxj.x3x9cwd.x1e5q0jg.x13rtm0m.x1q0g3np.x87ps6o.x1lku1pv.x78zum5.x1a2a7pz.x1xmf6yo[tabindex=\"0\"]')\n",
    "\n",
    "# Click on the div element\n",
    "div_element.click()"
   ]
  },
  {
   "cell_type": "code",
   "execution_count": 19,
   "id": "a282e37d",
   "metadata": {},
   "outputs": [],
   "source": [
    "for city in cities:\n",
    "    # Set up Splinter\n",
    "    browser = Browser('chrome')\n",
    "    # Set up base url\n",
    "    base_url = f'https://www.facebook.com/marketplace/{city}/search?'\n",
    "    #Set up full url\n",
    "    url = f\"{base_url}minPrice={min_price}&maxPrice={max_price}&daysSinceListed={days_listed}&maxMileage={max_mileage}&maxYear={max_year}&minMileage={min_mileage}&minYear={min_year}&transmissionType={transmission}&query={query}&exact=false\"\n",
    "    # Visit the website\n",
    "    browser.visit(url)\n"
   ]
  },
  {
   "cell_type": "code",
   "execution_count": 4,
   "id": "bf7aa15a",
   "metadata": {},
   "outputs": [
    {
     "ename": "IndexError",
     "evalue": "list assignment index out of range",
     "output_type": "error",
     "traceback": [
      "\u001b[1;31m---------------------------------------------------------------------------\u001b[0m",
      "\u001b[1;31mIndexError\u001b[0m                                Traceback (most recent call last)",
      "\u001b[1;32m~\\AppData\\Local\\Temp\\ipykernel_18004\\3585725585.py\u001b[0m in \u001b[0;36m<module>\u001b[1;34m\u001b[0m\n\u001b[0;32m     18\u001b[0m     \u001b[0mhtml\u001b[0m \u001b[1;33m=\u001b[0m \u001b[0mbrowser\u001b[0m\u001b[1;33m.\u001b[0m\u001b[0mhtml\u001b[0m\u001b[1;33m\u001b[0m\u001b[1;33m\u001b[0m\u001b[0m\n\u001b[0;32m     19\u001b[0m     \u001b[1;31m# Create a BeautifulSoup object from the scraped HTML\u001b[0m\u001b[1;33m\u001b[0m\u001b[1;33m\u001b[0m\u001b[0m\n\u001b[1;32m---> 20\u001b[1;33m     \u001b[0msoups\u001b[0m\u001b[1;33m[\u001b[0m\u001b[0mi\u001b[0m\u001b[1;33m]\u001b[0m \u001b[1;33m=\u001b[0m \u001b[0msoup\u001b[0m\u001b[1;33m(\u001b[0m\u001b[0mhtml\u001b[0m\u001b[1;33m,\u001b[0m \u001b[1;34m'html.parser'\u001b[0m\u001b[1;33m)\u001b[0m\u001b[1;33m\u001b[0m\u001b[1;33m\u001b[0m\u001b[0m\n\u001b[0m\u001b[0;32m     21\u001b[0m     \u001b[1;31m# Check if HTML was scraped correctly\u001b[0m\u001b[1;33m\u001b[0m\u001b[1;33m\u001b[0m\u001b[0m\n\u001b[0;32m     22\u001b[0m     \u001b[0mprint\u001b[0m\u001b[1;33m(\u001b[0m\u001b[1;34mf'finished {city}: {soups[i]}'\u001b[0m\u001b[1;33m)\u001b[0m\u001b[1;33m\u001b[0m\u001b[1;33m\u001b[0m\u001b[0m\n",
      "\u001b[1;31mIndexError\u001b[0m: list assignment index out of range"
     ]
    }
   ],
   "source": [
    "soups = []\n",
    "for i, city in enumerate(cities):  \n",
    "    \n",
    "    \n",
    "    # Scroll down to load more results\n",
    "    scroll_count = 2\n",
    "    scroll_delay = 2\n",
    "    for _ in range(scroll_count):\n",
    "        browser.execute_script(\"window.scrollTo(0, document.body.scrollHeight);\")\n",
    "        time.sleep(scroll_delay)\n",
    "        \n",
    "    # Parse the HTML\n",
    "    html = browser.html\n",
    "    # Create a BeautifulSoup object from the scraped HTML\n",
    "    soups[i] = soup(html, 'html.parser')\n",
    "    # Check if HTML was scraped correctly\n",
    "    print(f'finished {city}: {soups[i]}')"
   ]
  }
 ],
 "metadata": {
  "kernelspec": {
   "display_name": "Python 3 (ipykernel)",
   "language": "python",
   "name": "python3"
  },
  "language_info": {
   "codemirror_mode": {
    "name": "ipython",
    "version": 3
   },
   "file_extension": ".py",
   "mimetype": "text/x-python",
   "name": "python",
   "nbconvert_exporter": "python",
   "pygments_lexer": "ipython3",
   "version": "3.9.13"
  }
 },
 "nbformat": 4,
 "nbformat_minor": 5
}
