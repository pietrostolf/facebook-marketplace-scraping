{
 "cells": [
  {
   "cell_type": "code",
   "execution_count": 1,
   "id": "c2524fb2",
   "metadata": {},
   "outputs": [],
   "source": [
    "# Import necessary libraries"
   ]
  },
  {
   "cell_type": "code",
   "execution_count": null,
   "id": "7f5d4715",
   "metadata": {},
   "outputs": [],
   "source": [
    "# Set up Splinter\n",
    "\n",
    "# Set up base url\n",
    "\n",
    "# Set up search parameters\n",
    "\n",
    "#Set up full url"
   ]
  },
  {
   "cell_type": "code",
   "execution_count": null,
   "id": "3ee819c2",
   "metadata": {},
   "outputs": [],
   "source": [
    "# Visit the website"
   ]
  },
  {
   "cell_type": "code",
   "execution_count": null,
   "id": "46948ef0",
   "metadata": {},
   "outputs": [],
   "source": [
    "# Scroll down to load more results\n",
    "\n",
    "# Define the number of times to scroll the page\n",
    "\n",
    "# Define the delay (in seconds) between each scroll\n",
    "\n",
    "# Loop to perform scrolling"
   ]
  },
  {
   "cell_type": "code",
   "execution_count": null,
   "id": "652468fb",
   "metadata": {},
   "outputs": [],
   "source": [
    "# Parse the HTML\n",
    "\n",
    "\n",
    "# Create a BeautifulSoup object from the scraped HTML\n",
    "\n",
    "# Check if HTML was scraped correctly\n"
   ]
  },
  {
   "cell_type": "code",
   "execution_count": null,
   "id": "24a16d2d",
   "metadata": {},
   "outputs": [],
   "source": [
    "# End the automated browsing session\n"
   ]
  },
  {
   "cell_type": "code",
   "execution_count": 2,
   "id": "51cde2e5",
   "metadata": {},
   "outputs": [],
   "source": [
    "# Extract all the necessary info and insert into lists"
   ]
  },
  {
   "cell_type": "code",
   "execution_count": null,
   "id": "9411a71c",
   "metadata": {},
   "outputs": [],
   "source": [
    "# Create a regular expression pattern to match city and state entries like \"City, State\"\n",
    "\n",
    "\n",
    "# Initialize an empty list to store adjusted mileage entries\n",
    "\n",
    "\n",
    "# Iterate through the original mileage entries\n",
    "\n",
    "    # Append the current mileage entry to the adjusted list\n",
    "\n",
    "    \n",
    "    # Check if the current mileage entry matches the pattern and there are at least two entries in the adjusted list\n",
    "\n",
    "        # If the conditions are met, insert \"0K km\" in between the two consecutive city and state entries\n",
    "        "
   ]
  },
  {
   "cell_type": "code",
   "execution_count": 3,
   "id": "29e0033d",
   "metadata": {},
   "outputs": [],
   "source": [
    "# Extracted mileage list (separate from location and extract numeric values only)\n",
    "# Define regular expressions to extract numeric mileage values in \"K km\" and \"K miles\" format\n",
    "\n",
    "# Initialize an empty list to store cleaned mileage values\n",
    "\n",
    "\n",
    "# Iterate through the adjusted mileage entries\n",
    "\n",
    "    # Try to find a match for the \"K km\" format\n",
    "    \n",
    "    \n",
    "    # Try to find a match for the \"K miles\" format\n",
    "    \n",
    "    \n",
    "    # Check if either of the formats is found\n",
    "    \n",
    "        # If \"K km\" format is found, convert it to meters and append to the cleaned list\n",
    "        \n",
    "        # If \"K miles\" format is found, convert it to meters and append to the cleaned list\n",
    "        "
   ]
  },
  {
   "cell_type": "code",
   "execution_count": null,
   "id": "6e5837ce",
   "metadata": {},
   "outputs": [],
   "source": [
    "# Add all values to a list of dictionaries"
   ]
  },
  {
   "cell_type": "code",
   "execution_count": null,
   "id": "5c1112af",
   "metadata": {},
   "outputs": [],
   "source": [
    "# Add the prefix to the URLs"
   ]
  },
  {
   "cell_type": "code",
   "execution_count": null,
   "id": "58651bef",
   "metadata": {},
   "outputs": [],
   "source": [
    "# Filter the DataFrame to include rows where the 'Model' column matches the specified model, regardless of case."
   ]
  },
  {
   "cell_type": "code",
   "execution_count": null,
   "id": "a3cf69d5",
   "metadata": {},
   "outputs": [],
   "source": [
    "# Group the data by \"Year\" and calculate the mean price for each year\n",
    "\n",
    "# Create a wider figure\n",
    "\n",
    "# Create the column chart\n",
    "\n",
    "# Add values on top of the bars with no digits after the period\n",
    "\n",
    "# Convert to an integer to remove digits after the period\n",
    "\n",
    "# Set the labels and title\n",
    "\n",
    "\n",
    "# Use adaptive scale for the year axis\n",
    "\n",
    "\n",
    "# Show the chart\n"
   ]
  },
  {
   "cell_type": "code",
   "execution_count": null,
   "id": "f9966f84",
   "metadata": {},
   "outputs": [],
   "source": [
    "# Find the URL of the cheapest Honda Civic directly from the filtered DataFrame\n",
    "# Print the URL"
   ]
  },
  {
   "cell_type": "code",
   "execution_count": null,
   "id": "b76ba927",
   "metadata": {},
   "outputs": [],
   "source": [
    "# Export to CSV"
   ]
  }
 ],
 "metadata": {
  "kernelspec": {
   "display_name": "Python 3 (ipykernel)",
   "language": "python",
   "name": "python3"
  },
  "language_info": {
   "codemirror_mode": {
    "name": "ipython",
    "version": 3
   },
   "file_extension": ".py",
   "mimetype": "text/x-python",
   "name": "python",
   "nbconvert_exporter": "python",
   "pygments_lexer": "ipython3",
   "version": "3.9.13"
  }
 },
 "nbformat": 4,
 "nbformat_minor": 5
}
